{
 "cells": [
  {
   "cell_type": "code",
   "execution_count": 1,
   "metadata": {
    "collapsed": true,
    "pycharm": {
     "name": "#%%\n"
    }
   },
   "outputs": [],
   "source": [
    "from core.db_wd import DBWikidata\n",
    "\n",
    "db = DBWikidata()"
   ]
  },
  {
   "cell_type": "markdown",
   "metadata": {},
   "source": [
    "Get label in english"
   ]
  },
  {
   "cell_type": "code",
   "execution_count": 3,
   "metadata": {
    "pycharm": {
     "name": "#%%\n"
    }
   },
   "outputs": [
    {
     "data": {
      "text/plain": [
       "'Belgium'"
      ]
     },
     "execution_count": 3,
     "metadata": {},
     "output_type": "execute_result"
    }
   ],
   "source": [
    "db.get_label(\"Q31\")"
   ]
  },
  {
   "cell_type": "code",
   "execution_count": null,
   "metadata": {},
   "outputs": [],
   "source": [
    "\n",
    "\n",
    "\n",
    "# Gel label in all languages\n",
    "print(db.get_labels(\"Q31\"))\n",
    "\n",
    "# Gel aliases in all languages\n",
    "print(db.get_aliases(\"Q31\"))\n",
    "\n",
    "# Gel descriptions in all languages\n",
    "print(db.get_descriptions(\"Q31\"))\n",
    "\n",
    "# Gel descriptions in all languages\n",
    "print(db.get_descriptions(\"Q31\"))\n",
    "\n",
    "# Gel sitelinks\n",
    "print(db.get_sitelinks(\"Q31\"))\n",
    "\n",
    "# Gel claims\n",
    "print(db.get_claims(\"Q31\"))\n",
    "\n",
    "# Get all information about Q31\n",
    "print(db.get_item(\"Q31\"))\n",
    "\n",
    "# Get redirect of Q31\n",
    "redirects = db.get_redirect_of(\"Q31\")\n",
    "print(redirects)\n",
    "\n",
    "# Get redirect\n",
    "print(db.get_redirect(redirects[0]))\n",
    "\n",
    "# Get instance of Q31\n",
    "print(db.get_instance_of(\"Q31\"))\n",
    "\n",
    "# Get subclass of Q31\n",
    "print(db.get_subclass_of(\"Q31\"))\n",
    "\n",
    "# Get all types of Q31\n",
    "print(db.get_all_types(\"Q31\"))"
   ]
  },
  {
   "cell_type": "code",
   "execution_count": null,
   "metadata": {},
   "outputs": [],
   "source": []
  },
  {
   "cell_type": "code",
   "execution_count": null,
   "metadata": {},
   "outputs": [],
   "source": []
  },
  {
   "cell_type": "code",
   "execution_count": null,
   "metadata": {},
   "outputs": [],
   "source": []
  },
  {
   "cell_type": "code",
   "execution_count": null,
   "metadata": {},
   "outputs": [],
   "source": []
  },
  {
   "cell_type": "code",
   "execution_count": null,
   "metadata": {},
   "outputs": [],
   "source": []
  }
 ],
 "metadata": {
  "kernelspec": {
   "display_name": "Python 3",
   "language": "python",
   "name": "python3"
  },
  "language_info": {
   "codemirror_mode": {
    "name": "ipython",
    "version": 3
   },
   "file_extension": ".py",
   "mimetype": "text/x-python",
   "name": "python",
   "nbconvert_exporter": "python",
   "pygments_lexer": "ipython3",
   "version": "3.6.13"
  }
 },
 "nbformat": 4,
 "nbformat_minor": 1
}
